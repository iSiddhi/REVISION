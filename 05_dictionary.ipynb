{
 "cells": [
  {
   "cell_type": "code",
   "execution_count": 1,
   "id": "a775548a",
   "metadata": {},
   "outputs": [
    {
     "data": {
      "text/plain": [
       "dict"
      ]
     },
     "execution_count": 1,
     "metadata": {},
     "output_type": "execute_result"
    }
   ],
   "source": [
    "\n",
    "# creating a dictionary with sets\n",
    "d1={\"India\":\"INR\",\"USA\":\"USD\",\"Japan\":\"JPY\",\"China\":\"CNY\"}\n",
    "# creating a set from a list\n",
    "\n",
    "type(d1)\n"
   ]
  },
  {
   "cell_type": "code",
   "execution_count": 2,
   "id": "c7a1753c",
   "metadata": {},
   "outputs": [
    {
     "data": {
      "text/plain": [
       "dict"
      ]
     },
     "execution_count": 2,
     "metadata": {},
     "output_type": "execute_result"
    }
   ],
   "source": [
    "type(d1)"
   ]
  },
  {
   "cell_type": "code",
   "execution_count": 3,
   "id": "4b0430cb",
   "metadata": {},
   "outputs": [
    {
     "data": {
      "text/plain": [
       "'INR'"
      ]
     },
     "execution_count": 3,
     "metadata": {},
     "output_type": "execute_result"
    }
   ],
   "source": [
    "d1[\"India\"]  # Accessing value by key"
   ]
  },
  {
   "cell_type": "code",
   "execution_count": 4,
   "id": "0333fee6",
   "metadata": {},
   "outputs": [
    {
     "data": {
      "text/plain": [
       "{'India': 'INR', 'USA': 'USD', 'Japan': 'Yen', 'China': 'CNY'}"
      ]
     },
     "execution_count": 4,
     "metadata": {},
     "output_type": "execute_result"
    }
   ],
   "source": [
    "d1[\"Japan\"]=\"Yen\"\n",
    "d1  # Updated dictionary with new value for Japan"
   ]
  },
  {
   "cell_type": "code",
   "execution_count": 6,
   "id": "d861b799",
   "metadata": {},
   "outputs": [
    {
     "data": {
      "text/plain": [
       "['China', 'India', 'Japan', 'USA']"
      ]
     },
     "execution_count": 6,
     "metadata": {},
     "output_type": "execute_result"
    }
   ],
   "source": [
    "# sort\n",
    "sorted(d1)"
   ]
  },
  {
   "cell_type": "code",
   "execution_count": 7,
   "id": "ad9bb6e9",
   "metadata": {},
   "outputs": [
    {
     "data": {
      "text/plain": [
       "dict_values(['INR', 'USD', 'Yen', 'CNY'])"
      ]
     },
     "execution_count": 7,
     "metadata": {},
     "output_type": "execute_result"
    }
   ],
   "source": [
    "# values() method\n",
    "d1.values()  # Returns all values in the dictionary"
   ]
  },
  {
   "cell_type": "code",
   "execution_count": 8,
   "id": "c7b79c25",
   "metadata": {},
   "outputs": [
    {
     "data": {
      "text/plain": [
       "dict_keys(['India', 'USA', 'Japan', 'China'])"
      ]
     },
     "execution_count": 8,
     "metadata": {},
     "output_type": "execute_result"
    }
   ],
   "source": [
    "d1.keys()"
   ]
  },
  {
   "cell_type": "code",
   "execution_count": 9,
   "id": "3f3da54a",
   "metadata": {},
   "outputs": [
    {
     "data": {
      "text/plain": [
       "{'India': 'Rupee', 'USA': 'USD', 'Japan': 'Yen', 'China': 'CNY'}"
      ]
     },
     "execution_count": 9,
     "metadata": {},
     "output_type": "execute_result"
    }
   ],
   "source": [
    "# update a value\n",
    "d1.update({\"India\":\"Rupee\"}\n",
    ")\n",
    "d1"
   ]
  },
  {
   "cell_type": "markdown",
   "id": "c3ec2184",
   "metadata": {},
   "source": [
    "QUESTION"
   ]
  },
  {
   "cell_type": "markdown",
   "id": "e59039c4",
   "metadata": {},
   "source": [
    "\n",
    "\n",
    "Write code to fetch the profession of the employee with Employee id- 104 from an employee input given in the form of a dictionary where key represent employee id and values represent the name, age, and profession (in the same order).\n",
    "\n",
    "Sample Input:\n",
    "\n",
    "Employee_data = (101:(\"Shiva', 24, 'Content Strategist), 102 [Udir, 25, \"Content Strategist), 103 [Sonam, 28 Sr Manager) 104:['Ansari 29, Product Lead ].105:[\"Huzefa, 32, Project Manager\"]}\n"
   ]
  },
  {
   "cell_type": "code",
   "execution_count": 15,
   "id": "e1a04807",
   "metadata": {},
   "outputs": [
    {
     "name": "stdout",
     "output_type": "stream",
     "text": [
      "The profession of the employee with id 104 is: Scientist\n"
     ]
    }
   ],
   "source": [
    "Employee = {101:['Shiva',24,'Engineer'], 102:['Sita',28,'Doctor'], 103:['Ram',30,'Teacher'], 104:['Geeta',26,'Scientist']}\n",
    "# Fetching the profession of the employee with Employee id- 104\n",
    "profession = Employee[104][2]  # Accessing the profession of employee with id 104\n",
    "print(f\"The profession of the employee with id 104 is: {profession}\")\n"
   ]
  }
 ],
 "metadata": {
  "kernelspec": {
   "display_name": ".venv",
   "language": "python",
   "name": "python3"
  },
  "language_info": {
   "codemirror_mode": {
    "name": "ipython",
    "version": 3
   },
   "file_extension": ".py",
   "mimetype": "text/x-python",
   "name": "python",
   "nbconvert_exporter": "python",
   "pygments_lexer": "ipython3",
   "version": "3.13.6"
  }
 },
 "nbformat": 4,
 "nbformat_minor": 5
}
