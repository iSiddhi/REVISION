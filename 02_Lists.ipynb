{
 "cells": [
  {
   "cell_type": "markdown",
   "id": "aea74679",
   "metadata": {},
   "source": [
    "# LISTS\n",
    "Lists are ordered sequence of mixed data types\n",
    "Lists are written in comma separated elements within square brackets "
   ]
  },
  {
   "cell_type": "code",
   "execution_count": 1,
   "id": "d2921cfe",
   "metadata": {},
   "outputs": [
    {
     "data": {
      "text/plain": [
       "['india', 5, 'delhi']"
      ]
     },
     "execution_count": 1,
     "metadata": {},
     "output_type": "execute_result"
    }
   ],
   "source": [
    "list1=[\"india\",5,\"delhi\"]\n",
    "list1"
   ]
  },
  {
   "cell_type": "markdown",
   "id": "f121978a",
   "metadata": {},
   "source": [
    "<!-- Lists are oredered sequence of mixed data types\n",
    "Lists are written in comma separated elements within square brackets  -->"
   ]
  },
  {
   "cell_type": "code",
   "execution_count": 3,
   "id": "a74d22ee",
   "metadata": {},
   "outputs": [
    {
     "name": "stdout",
     "output_type": "stream",
     "text": [
      "3\n",
      "<class 'list'>\n"
     ]
    }
   ],
   "source": [
    "print(len(list1))\n",
    "print(type(list1))"
   ]
  },
  {
   "cell_type": "code",
   "execution_count": null,
   "id": "2cb490e9",
   "metadata": {},
   "outputs": [
    {
     "name": "stdout",
     "output_type": "stream",
     "text": [
      "siddhi\n",
      "20\n",
      "indore\n",
      "indore\n",
      "3\n",
      "<class 'list'>\n",
      "['shruti', '20', 'indore']\n"
     ]
    }
   ],
   "source": [
    "cust_info=[\"siddhi\",\"20\",\"indore\"]\n",
    "\n",
    "# accessing elements of list\n",
    "print(cust_info[0])\n",
    "print(cust_info[1])\n",
    "print(cust_info[2])\n",
    "print(cust_info[-1])\n",
    "\n",
    "# lenght of list\n",
    "print(len(cust_info))\n",
    "\n",
    "\n",
    "# type of list\n",
    "print(type(cust_info))\n",
    "\n"
   ]
  },
  {
   "cell_type": "markdown",
   "id": "4918e818",
   "metadata": {},
   "source": [
    "# changing the value of list\n",
    "cust_info[0]=\"shruti\"\n",
    "print(cust_info)"
   ]
  },
  {
   "cell_type": "code",
   "execution_count": 27,
   "id": "3bdce36d",
   "metadata": {},
   "outputs": [
    {
     "name": "stdout",
     "output_type": "stream",
     "text": [
      "['india', 5, 'delhi', 1, 2, 3, 4, 5]\n"
     ]
    }
   ],
   "source": [
    "list1=[\"india\",5,\"delhi\"]\n",
    "list2=[1,2,3,4,5]\n",
    "\n",
    "\n",
    "# concatenation of lists\n",
    "list3=list1+list2\n",
    "print(list3)"
   ]
  },
  {
   "cell_type": "code",
   "execution_count": 28,
   "id": "521ade5c",
   "metadata": {},
   "outputs": [
    {
     "name": "stdout",
     "output_type": "stream",
     "text": [
      "india\n"
     ]
    }
   ],
   "source": [
    "list2=list1[0]\n",
    "print(list2)"
   ]
  },
  {
   "cell_type": "markdown",
   "id": "9caa2153",
   "metadata": {},
   "source": [
    "MUTABILITY"
   ]
  },
  {
   "cell_type": "code",
   "execution_count": 29,
   "id": "94f7464a",
   "metadata": {},
   "outputs": [],
   "source": [
    "list1=[\"maths\",\"english\",\"ArithmeticError\",\"History\"]\n"
   ]
  },
  {
   "cell_type": "code",
   "execution_count": 30,
   "id": "5b67f55f",
   "metadata": {},
   "outputs": [
    {
     "data": {
      "text/plain": [
       "['maths', 'english', 'Python', 'History']"
      ]
     },
     "execution_count": 30,
     "metadata": {},
     "output_type": "execute_result"
    }
   ],
   "source": [
    "list1[2]\n",
    "list1[2]=\"Python\"\n",
    "list1"
   ]
  },
  {
   "cell_type": "code",
   "execution_count": 31,
   "id": "30d4ff6c",
   "metadata": {},
   "outputs": [
    {
     "name": "stdout",
     "output_type": "stream",
     "text": [
      "['maths', 'english', 'ArithmeticError', 'History', 'Python', 'C++']\n"
     ]
    }
   ],
   "source": [
    "# extend() function --->it extends this list by appending elements from the iterable\n",
    "list1=[\"maths\",\"english\",\"ArithmeticError\",\"History\"]\n",
    "list1.extend([\"Python\",\"C++\"])\n",
    "print(list1)"
   ]
  },
  {
   "cell_type": "code",
   "execution_count": 32,
   "id": "70ca7770",
   "metadata": {},
   "outputs": [
    {
     "data": {
      "text/plain": [
       "4"
      ]
     },
     "execution_count": 32,
     "metadata": {},
     "output_type": "execute_result"
    }
   ],
   "source": [
    "# append() function --->it adds an element at the end of the list\n",
    "list1=[\"india\",5,\"delhi\"]\n",
    "list1.append(\"siddhi\")\n",
    "list1\n",
    "len(list1)"
   ]
  },
  {
   "cell_type": "code",
   "execution_count": 35,
   "id": "657e4b42",
   "metadata": {},
   "outputs": [
    {
     "data": {
      "text/plain": [
       "[1, 2, 4, 5]"
      ]
     },
     "execution_count": 35,
     "metadata": {},
     "output_type": "execute_result"
    }
   ],
   "source": [
    "# <!-- delete command -->\n",
    "list1=[1,2,3,4,5]\n",
    "del list1[2]\n",
    "list1"
   ]
  },
  {
   "cell_type": "code",
   "execution_count": 37,
   "id": "585d77a8",
   "metadata": {},
   "outputs": [
    {
     "data": {
      "text/plain": [
       "[1, 2, 4, 5]"
      ]
     },
     "execution_count": 37,
     "metadata": {},
     "output_type": "execute_result"
    }
   ],
   "source": [
    "# pop operation\n",
    "list1=[1,2,3,4,5]\n",
    "list1.pop(2)\n",
    "list1"
   ]
  },
  {
   "cell_type": "code",
   "execution_count": 39,
   "id": "c5d4e8a4",
   "metadata": {},
   "outputs": [
    {
     "data": {
      "text/plain": [
       "[1, 2, 4, 5]"
      ]
     },
     "execution_count": 39,
     "metadata": {},
     "output_type": "execute_result"
    }
   ],
   "source": [
    "# remove() function --->it removes the first occurrence of a value\n",
    "list1=[1,2,3,4,5]\n",
    "list1.remove(3) \n",
    "list1"
   ]
  },
  {
   "cell_type": "code",
   "execution_count": 41,
   "id": "b8003af2",
   "metadata": {},
   "outputs": [
    {
     "name": "stdout",
     "output_type": "stream",
     "text": [
      "[2, 5, 6, 8, 9]\n"
     ]
    }
   ],
   "source": [
    "# sort() function --->it sorts the list in ascending order\n",
    "A=[8,9,5,6,2]\n",
    "A.sort()\n",
    "print(A)"
   ]
  },
  {
   "cell_type": "code",
   "execution_count": 45,
   "id": "c706db71",
   "metadata": {},
   "outputs": [
    {
     "name": "stdout",
     "output_type": "stream",
     "text": [
      "[9, 8, 6, 5, 2]\n"
     ]
    }
   ],
   "source": [
    "# reverse\n",
    "A=[8,9,5,6,2]\n",
    "A.sort(reverse=True)\n",
    "print(A)"
   ]
  },
  {
   "cell_type": "markdown",
   "id": "01e68488",
   "metadata": {},
   "source": [
    "Difference between sort and sorted"
   ]
  },
  {
   "cell_type": "code",
   "execution_count": 50,
   "id": "2ed4eb5f",
   "metadata": {},
   "outputs": [
    {
     "name": "stdout",
     "output_type": "stream",
     "text": [
      "['Oranges', 'Apples', 'Bananas']\n",
      "['Apples', 'Bananas', 'Oranges']\n"
     ]
    }
   ],
   "source": [
    "A=[\"Oranges\",\"Apples\",\"Bananas\"]\n",
    "B=sorted(A)\n",
    "print(A)\n",
    "print(B)"
   ]
  },
  {
   "cell_type": "markdown",
   "id": "78f5a29e",
   "metadata": {},
   "source": [
    "SHALLOW COPY\n"
   ]
  },
  {
   "cell_type": "code",
   "execution_count": 51,
   "id": "9abf6db7",
   "metadata": {},
   "outputs": [
    {
     "name": "stdout",
     "output_type": "stream",
     "text": [
      "['Oranges', 'Mangoes', 'Bananas ']\n",
      "['Oranges', 'Mangoes', 'Bananas ']\n"
     ]
    }
   ],
   "source": [
    "A=[\"Oranges\",\"Mangoes\",\"Bananas \"]\n",
    "B=A\n",
    "print(A)\n",
    "print(B)"
   ]
  },
  {
   "cell_type": "code",
   "execution_count": 52,
   "id": "831a96dd",
   "metadata": {},
   "outputs": [
    {
     "data": {
      "text/plain": [
       "'Bananas '"
      ]
     },
     "execution_count": 52,
     "metadata": {},
     "output_type": "execute_result"
    }
   ],
   "source": [
    "A.pop()"
   ]
  },
  {
   "cell_type": "code",
   "execution_count": 53,
   "id": "ac54aa95",
   "metadata": {},
   "outputs": [
    {
     "data": {
      "text/plain": [
       "['Oranges', 'Mangoes']"
      ]
     },
     "execution_count": 53,
     "metadata": {},
     "output_type": "execute_result"
    }
   ],
   "source": [
    "A"
   ]
  },
  {
   "cell_type": "code",
   "execution_count": null,
   "id": "16539629",
   "metadata": {},
   "outputs": [
    {
     "data": {
      "text/plain": [
       "['Oranges', 'Mangoes']"
      ]
     },
     "execution_count": 54,
     "metadata": {},
     "output_type": "execute_result"
    }
   ],
   "source": [
    "B"
   ]
  },
  {
   "cell_type": "markdown",
   "id": "8fbd35c4",
   "metadata": {},
   "source": [
    "Questions\n",
    "<!-- Split the string input \"Siddhi_patel_3010 to the persons's second name , first name and unique customer code. In this example , second_name=\"Kumar\",\"first_name -->"
   ]
  },
  {
   "cell_type": "code",
   "execution_count": 59,
   "id": "6bb1de7d",
   "metadata": {},
   "outputs": [
    {
     "name": "stdout",
     "output_type": "stream",
     "text": [
      "Second Name: Siddhi\n",
      "First Name: patel\n",
      "Customer Code: 3010\n"
     ]
    }
   ],
   "source": [
    "input_string = \"Siddhi_patel_3010\"\n",
    "second_name,first_name,cust_code =  input_string.split(\"_\")\n",
    "print(\"Second Name:\", second_name)\n",
    "print(\"First Name:\", first_name)\n",
    "print(\"Customer Code:\", cust_code)\n",
    "input_string = \"Siddhi_patel_3010\""
   ]
  },
  {
   "cell_type": "code",
   "execution_count": null,
   "id": "3ee031c4",
   "metadata": {},
   "outputs": [
    {
     "name": "stdout",
     "output_type": "stream",
     "text": [
      "Siddhi_patel_3010\n"
     ]
    }
   ],
   "source": []
  },
  {
   "cell_type": "code",
   "execution_count": null,
   "id": "c1b39c16",
   "metadata": {},
   "outputs": [],
   "source": []
  },
  {
   "cell_type": "code",
   "execution_count": null,
   "id": "94beba0c",
   "metadata": {},
   "outputs": [],
   "source": []
  },
  {
   "cell_type": "code",
   "execution_count": null,
   "id": "67c0b5a8",
   "metadata": {},
   "outputs": [],
   "source": []
  }
 ],
 "metadata": {
  "kernelspec": {
   "display_name": ".venv",
   "language": "python",
   "name": "python3"
  },
  "language_info": {
   "codemirror_mode": {
    "name": "ipython",
    "version": 3
   },
   "file_extension": ".py",
   "mimetype": "text/x-python",
   "name": "python",
   "nbconvert_exporter": "python",
   "pygments_lexer": "ipython3",
   "version": "3.13.6"
  }
 },
 "nbformat": 4,
 "nbformat_minor": 5
}
