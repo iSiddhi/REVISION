{
 "cells": [
  {
   "cell_type": "markdown",
   "id": "e4611dd3",
   "metadata": {},
   "source": [
    "<!-- Reading a file -->"
   ]
  },
  {
   "cell_type": "markdown",
   "id": "795fc642",
   "metadata": {},
   "source": [
    "READING A FILE"
   ]
  },
  {
   "cell_type": "code",
   "execution_count": null,
   "id": "2f50a17c",
   "metadata": {},
   "outputs": [
    {
     "name": "stdout",
     "output_type": "stream",
     "text": [
      "Heyyloo guys , i am siddhi patel\n"
     ]
    }
   ],
   "source": [
    "# OPENING A FILE\n",
    "file = open('file.txt', \"r\")\n",
    "\n",
    "for line in file:\n",
    "    print(line)"
   ]
  },
  {
   "cell_type": "code",
   "execution_count": 10,
   "id": "2786601f",
   "metadata": {},
   "outputs": [
    {
     "name": "stdout",
     "output_type": "stream",
     "text": [
      "Heyyloo guys , i am siddhi patel\n"
     ]
    }
   ],
   "source": [
    "# READING A FILE \n",
    "file = open('file.txt', \"r\")\n",
    "print(file.read())"
   ]
  },
  {
   "cell_type": "code",
   "execution_count": 11,
   "id": "abba7e76",
   "metadata": {},
   "outputs": [
    {
     "name": "stdout",
     "output_type": "stream",
     "text": [
      "Heyyl\n"
     ]
    }
   ],
   "source": [
    "file= open('file.txt', \"r\")\n",
    "print(file.read(5))"
   ]
  },
  {
   "cell_type": "code",
   "execution_count": 12,
   "id": "3104360d",
   "metadata": {},
   "outputs": [
    {
     "name": "stdout",
     "output_type": "stream",
     "text": [
      "Heyyloo guys , i am siddhi patel\n"
     ]
    }
   ],
   "source": [
    "file= open('file.txt', \"r\")\n",
    "print(file.readline())\n"
   ]
  },
  {
   "cell_type": "code",
   "execution_count": 14,
   "id": "ba360002",
   "metadata": {},
   "outputs": [
    {
     "name": "stdout",
     "output_type": "stream",
     "text": [
      "Heyyl\n"
     ]
    }
   ],
   "source": [
    "file= open('file.txt', \"r\")\n",
    "print(file.readline(5))\n"
   ]
  },
  {
   "cell_type": "markdown",
   "id": "d3254eff",
   "metadata": {},
   "source": [
    "WRITING A FILE"
   ]
  },
  {
   "cell_type": "code",
   "execution_count": null,
   "id": "81e5ca45",
   "metadata": {},
   "outputs": [
    {
     "data": {
      "text/plain": [
       "47"
      ]
     },
     "execution_count": 25,
     "metadata": {},
     "output_type": "execute_result"
    }
   ],
   "source": [
    "file=open('file.txt','w')\n",
    "file.write(\"Heyyloo guys , I am here to write something new\")\n"
   ]
  },
  {
   "cell_type": "code",
   "execution_count": 6,
   "id": "438ab999",
   "metadata": {},
   "outputs": [],
   "source": [
    "file=open('file.txt','w')\n",
    "file.write(\"Heyyloo guys\")\n",
    "file.close()\n"
   ]
  },
  {
   "cell_type": "code",
   "execution_count": 7,
   "id": "c86f64b3",
   "metadata": {},
   "outputs": [
    {
     "name": "stdout",
     "output_type": "stream",
     "text": [
      "Heyyloo guys\n"
     ]
    }
   ],
   "source": [
    "file=open('file.txt','r')\n",
    "print(file.read())\n"
   ]
  },
  {
   "cell_type": "markdown",
   "id": "7b2a5a3e",
   "metadata": {},
   "source": [
    "APPEND FUNCTION"
   ]
  },
  {
   "cell_type": "code",
   "execution_count": 8,
   "id": "677ef030",
   "metadata": {},
   "outputs": [],
   "source": [
    "with open('file.txt','w') as file:\n",
    "    file.write(\"Hello guys , I am here to write something new\")"
   ]
  },
  {
   "cell_type": "code",
   "execution_count": 10,
   "id": "122cb782",
   "metadata": {},
   "outputs": [
    {
     "name": "stdout",
     "output_type": "stream",
     "text": [
      "Hello guys , I am here to write something new\n"
     ]
    }
   ],
   "source": [
    "file= open('file.txt', \"r\")\n",
    "for line in file:\n",
    "    print(line)\n"
   ]
  },
  {
   "cell_type": "markdown",
   "id": "6740e475",
   "metadata": {},
   "source": [
    "/n operation"
   ]
  },
  {
   "cell_type": "code",
   "execution_count": null,
   "id": "e5d81496",
   "metadata": {},
   "outputs": [],
   "source": [
    "with open('file.txt','w') as file:\n",
    "    file.write(\"Hello guys , I am here to write something new\")\n",
    "    file.write(\"\\n\")"
   ]
  },
  {
   "cell_type": "code",
   "execution_count": null,
   "id": "381d2cd7",
   "metadata": {},
   "outputs": [],
   "source": [
    "# Append Plus (a+) Mode\n",
    "\n",
    "with open('file.txt', 'a+') as file:\n",
    "    file.write('\\nThis is appended with a plus mode.')\n",
    "    file.seek(0)\n",
    "    print(file.read())"
   ]
  },
  {
   "cell_type": "code",
   "execution_count": null,
   "id": "0107b13a",
   "metadata": {},
   "outputs": [],
   "source": [
    "import pandas as pd\n",
    "df = pd.read_csv('churn_modelling.csv')\n",
    "print(df.head())"
   ]
  },
  {
   "cell_type": "code",
   "execution_count": null,
   "id": "e3cec9cc",
   "metadata": {},
   "outputs": [],
   "source": []
  },
  {
   "cell_type": "code",
   "execution_count": null,
   "id": "99c6c925",
   "metadata": {},
   "outputs": [],
   "source": []
  }
 ],
 "metadata": {
  "kernelspec": {
   "display_name": ".venv",
   "language": "python",
   "name": "python3"
  },
  "language_info": {
   "codemirror_mode": {
    "name": "ipython",
    "version": 3
   },
   "file_extension": ".py",
   "mimetype": "text/x-python",
   "name": "python",
   "nbconvert_exporter": "python",
   "pygments_lexer": "ipython3",
   "version": "3.13.6"
  }
 },
 "nbformat": 4,
 "nbformat_minor": 5
}
