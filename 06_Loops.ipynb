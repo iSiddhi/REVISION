{
 "cells": [
  {
   "cell_type": "code",
   "execution_count": 1,
   "id": "4cc37eb2",
   "metadata": {},
   "outputs": [
    {
     "name": "stdout",
     "output_type": "stream",
     "text": [
      "2 * 1 = 2\n",
      "3 * 1 = 3\n",
      "2 * 2 = 4\n",
      "3 * 2 = 6\n",
      "2 * 3 = 6\n",
      "3 * 3 = 9\n",
      "2 * 4 = 8\n",
      "3 * 4 = 12\n",
      "2 * 5 = 10\n",
      "3 * 5 = 15\n",
      "2 * 6 = 12\n",
      "3 * 6 = 18\n",
      "2 * 7 = 14\n",
      "3 * 7 = 21\n",
      "2 * 8 = 16\n",
      "3 * 8 = 24\n",
      "2 * 9 = 18\n",
      "3 * 9 = 27\n",
      "2 * 10 = 20\n",
      "3 * 10 = 30\n"
     ]
    }
   ],
   "source": [
    "# for loop execution\n",
    "#!/usr/bin/env python3\n",
    "a=2\n",
    "b=3\n",
    "for i in range(1, 11):\n",
    "    print(f\"{a} * {i} = {a*i}\")\n",
    "    print(f\"{b} * {i} = {b*i}\")"
   ]
  },
  {
   "cell_type": "code",
   "execution_count": 6,
   "id": "70c30d98",
   "metadata": {},
   "outputs": [
    {
     "name": "stdout",
     "output_type": "stream",
     "text": [
      "2 is even\n"
     ]
    }
   ],
   "source": [
    "# check wheater a number is odd or even\n",
    "\n",
    "x = int(input(\"Enter a number: \"))\n",
    "if x % 2 == 0:\n",
    "    print(f\"{x} is even\")\n",
    "else:\n",
    "    print(f\"{x} is odd\")"
   ]
  },
  {
   "cell_type": "code",
   "execution_count": 15,
   "id": "a5d06e08",
   "metadata": {},
   "outputs": [
    {
     "name": "stdout",
     "output_type": "stream",
     "text": [
      "You are not allowed to enter\n"
     ]
    }
   ],
   "source": [
    "# allow greater than 18 & less than 50 years of age\n",
    "age=int(input(\"enter your age:\"))\n",
    "if age >18 and  age<50:\n",
    "    print(\"You are allowed to enter\")\n",
    "else:\n",
    "    print(\"You are not allowed to enter\")"
   ]
  },
  {
   "cell_type": "code",
   "execution_count": 17,
   "id": "086aa037",
   "metadata": {},
   "outputs": [
    {
     "name": "stdout",
     "output_type": "stream",
     "text": [
      "Discount is: 11200.0\n"
     ]
    }
   ],
   "source": [
    "# program to provide discounts\n",
    "amount = int(input(\"Enter the amount: \"))\n",
    "if amount>5000 and amount<=10000:\n",
    "    discount=amount*0.1\n",
    "    print(\"Discount is:\", discount)\n",
    "if amount >10000:\n",
    "    discount=amount*0.2\n",
    "    print(\"Discount is:\", discount)    \n",
    "else:\n",
    "    print(\"No discount\")\n"
   ]
  },
  {
   "cell_type": "markdown",
   "id": "769eecc4",
   "metadata": {},
   "source": [
    "iterations\n"
   ]
  },
  {
   "cell_type": "code",
   "execution_count": null,
   "id": "b2168e49",
   "metadata": {},
   "outputs": [
    {
     "name": "stdout",
     "output_type": "stream",
     "text": [
      "10\n",
      "20\n",
      "30\n",
      "40\n",
      "50\n"
     ]
    }
   ],
   "source": [
    "# iterate over a list of integers\n",
    "list1=[10,20,30,40,50]\n",
    "for i in list1:\n",
    "        print(i)                    "
   ]
  },
  {
   "cell_type": "code",
   "execution_count": 23,
   "id": "d61ff0c4",
   "metadata": {},
   "outputs": [
    {
     "name": "stdout",
     "output_type": "stream",
     "text": [
      "I\n",
      "n\n",
      "d\n",
      "i\n",
      "a\n"
     ]
    }
   ],
   "source": [
    "# iterate over a String\n",
    "str1=\"India\"\n",
    "for i in str1:\n",
    "        print(i)"
   ]
  },
  {
   "cell_type": "code",
   "execution_count": 26,
   "id": "89f97348",
   "metadata": {},
   "outputs": [
    {
     "name": "stdout",
     "output_type": "stream",
     "text": [
      "name: John\n",
      "age: 20\n",
      "subjects: ['Math', 'Science', 'English']\n"
     ]
    }
   ],
   "source": [
    "student_data= {\n",
    "    \"name\": \"John\",\n",
    "    \"age\": 20,\n",
    "    \"subjects\": [\"Math\", \"Science\", \"English\"]\n",
    "}\n",
    "for i in student_data:\n",
    "    print(f\"{i}: {student_data[i]}\")"
   ]
  },
  {
   "cell_type": "code",
   "execution_count": 29,
   "id": "4d80d12f",
   "metadata": {},
   "outputs": [
    {
     "name": "stdout",
     "output_type": "stream",
     "text": [
      "('name', 'John')\n",
      "('age', 20)\n",
      "('subjects', ['Math', 'Science', 'English'])\n"
     ]
    }
   ],
   "source": [
    "student_data= {\n",
    "    \"name\": \"John\",\n",
    "    \"age\": 20,\n",
    "    \"subjects\": [\"Math\", \"Science\", \"English\"]\n",
    "}\n",
    "for i in student_data.items():\n",
    "    print(i)"
   ]
  },
  {
   "cell_type": "code",
   "execution_count": 32,
   "id": "e24ffe1a",
   "metadata": {},
   "outputs": [
    {
     "name": "stdout",
     "output_type": "stream",
     "text": [
      "['AUTOMOBILES']\n",
      "['AUTOMOBILES', 'HONDA']\n",
      "['AUTOMOBILES', 'HONDA', 'BENZ']\n",
      "['AUTOMOBILES', 'HONDA', 'BENZ', 'TOYOTA']\n",
      "['AUTOMOBILES', 'HONDA', 'BENZ', 'TOYOTA', 'KIA']\n"
     ]
    }
   ],
   "source": [
    "# Comprehensions\n",
    "list1=[\"Automobiles\",\"Honda\",\"Benz\",\"Toyota\",\"Kia\"]\n",
    "list2=[]\n",
    "for i in list1:\n",
    "    list2.append(i.upper())\n",
    "    print(list2)"
   ]
  },
  {
   "cell_type": "markdown",
   "id": "249c9961",
   "metadata": {},
   "source": [
    "QUESTIONS\n",
    "\n",
    "FOR LOOP"
   ]
  },
  {
   "cell_type": "code",
   "execution_count": 36,
   "id": "277e1e89",
   "metadata": {},
   "outputs": [
    {
     "name": "stdout",
     "output_type": "stream",
     "text": [
      "2\n",
      "4\n",
      "6\n",
      "8\n",
      "10\n",
      "12\n",
      "14\n",
      "16\n",
      "18\n",
      "20\n",
      "22\n",
      "24\n",
      "26\n",
      "28\n",
      "30\n",
      "32\n",
      "34\n",
      "36\n",
      "38\n",
      "40\n",
      "42\n",
      "44\n",
      "46\n",
      "48\n",
      "50\n"
     ]
    }
   ],
   "source": [
    "# Print all even numbers between 1 and 50.\n",
    "for i in range(1,51):\n",
    "    if i%2==0:\n",
    "        print(i)\n",
    "\n",
    "        "
   ]
  },
  {
   "cell_type": "code",
   "execution_count": null,
   "id": "c2ea46d5",
   "metadata": {},
   "outputs": [
    {
     "name": "stdout",
     "output_type": "stream",
     "text": [
      "1\n",
      "3\n",
      "6\n",
      "10\n"
     ]
    }
   ],
   "source": [
    "# Print the sum of numbers from 1 to N (user input).\n",
    "N = int (input(\"enter the number:\"))\n",
    "\n",
    "sum=0\n",
    "for i in range(1,N+1):\n",
    "    sum += i\n",
    "    \n",
    "    print(sum)\n",
    "\n"
   ]
  },
  {
   "cell_type": "code",
   "execution_count": 19,
   "id": "404b1c7f",
   "metadata": {},
   "outputs": [
    {
     "name": "stdout",
     "output_type": "stream",
     "text": [
      "1 3 6 10 15 21 "
     ]
    }
   ],
   "source": [
    "# fibonacci series\n",
    "N=int(input(\"Enter the number of terms: \"))\n",
    "sum=0\n",
    "for i in range(1,N+1):\n",
    "    sum= sum + i\n",
    "    print(sum,end=\" \")"
   ]
  },
  {
   "cell_type": "code",
   "execution_count": 27,
   "id": "d93bae93",
   "metadata": {},
   "outputs": [
    {
     "name": "stdout",
     "output_type": "stream",
     "text": [
      "Largest number is: 50\n"
     ]
    }
   ],
   "source": [
    "# Print the largest number in a list using a loop\n",
    "list1 = [10, 20, 30, 40, 50]\n",
    "\n",
    "largest = list1[0]\n",
    "\n",
    "for i in range(1, len(list1)):\n",
    "    if list1[i] > largest:\n",
    "        largest = list1[i]\n",
    "\n",
    "print(\"Largest number is:\", largest)\n"
   ]
  },
  {
   "cell_type": "code",
   "execution_count": 28,
   "id": "e9f1203d",
   "metadata": {},
   "outputs": [
    {
     "name": "stdout",
     "output_type": "stream",
     "text": [
      "10 20 30 40 50 "
     ]
    }
   ],
   "source": [
    "# Print all elements of a list using a for loop.\n",
    "list1 = [10, 20, 30, 40, 50]\n",
    "for i in list1:\n",
    "    print(i ,end=\" \")"
   ]
  },
  {
   "cell_type": "code",
   "execution_count": null,
   "id": "371ea8ba",
   "metadata": {},
   "outputs": [
    {
     "name": "stdout",
     "output_type": "stream",
     "text": [
      "6\n"
     ]
    }
   ],
   "source": [
    "X= \"bananas are amazing\"\n",
    "# Count how many times the letter \"a\" appears in \"bananas are amazing\".\n",
    "count = 0   \n",
    "for i in X:\n",
    "    if i == \"a\":\n",
    "        count += 1\n",
    "print(count)"
   ]
  },
  {
   "cell_type": "code",
   "execution_count": 55,
   "id": "3662ff6a",
   "metadata": {},
   "outputs": [
    {
     "name": "stdout",
     "output_type": "stream",
     "text": [
      "*\n",
      "**\n",
      "***\n",
      "****\n",
      "*****\n",
      "******\n"
     ]
    }
   ],
   "source": [
    "for i in range(1,i+1):\n",
    "    # for j in range(1+i,4):\n",
    "        print(\"*\"*i)\n",
    "        "
   ]
  },
  {
   "cell_type": "code",
   "execution_count": null,
   "id": "c778c8f6",
   "metadata": {},
   "outputs": [
    {
     "name": "stdout",
     "output_type": "stream",
     "text": [
      "2 3 5 7 11 13 17 19 23 29 31 37 41 43 47 53 59 61 67 71 73 79 83 89 97 "
     ]
    }
   ],
   "source": [
    "# Write a program to print prime numbers between 1 and 100.\n",
    "\n",
    "for i in range(2,101):\n",
    "    is_prime = True\n",
    "    for j in  range(2, int(i**0.5) + 1):\n",
    "        if i % j == 0:\n",
    "            is_prime = False\n",
    "            break\n",
    "    if is_prime:\n",
    "        print(i, end=\" \")   \n"
   ]
  },
  {
   "cell_type": "code",
   "execution_count": 59,
   "id": "858e2c50",
   "metadata": {},
   "outputs": [
    {
     "name": "stdout",
     "output_type": "stream",
     "text": [
      "1 3 6 10 15 21 "
     ]
    }
   ],
   "source": [
    "# Print the Fibonacci sequence up to N terms.\n",
    "N= int(input(\"Enter the number of terms: \"))\n",
    "sum=0\n",
    "for i in range(1,N+1):\n",
    "   sum+= i\n",
    "   print(sum, end=\" \")\n"
   ]
  },
  {
   "cell_type": "code",
   "execution_count": null,
   "id": "68f36b74",
   "metadata": {},
   "outputs": [
    {
     "name": "stdout",
     "output_type": "stream",
     "text": [
      "1\n",
      "2\n",
      "6\n",
      "24\n",
      "120\n",
      "720\n",
      "5040\n",
      "40320\n"
     ]
    }
   ],
   "source": [
    "#\n",
    "num = int(input(\"Enter a string: \"))\n",
    "factor = 1\n",
    "for i in range(1,num+1):\n",
    "    factor *= i\n",
    "\n",
    "    print(factor)"
   ]
  },
  {
   "cell_type": "code",
   "execution_count": null,
   "id": "ea8baadb",
   "metadata": {},
   "outputs": [],
   "source": []
  },
  {
   "cell_type": "code",
   "execution_count": null,
   "id": "69b4bf36",
   "metadata": {},
   "outputs": [],
   "source": []
  },
  {
   "cell_type": "code",
   "execution_count": null,
   "id": "255d1bee",
   "metadata": {},
   "outputs": [],
   "source": []
  },
  {
   "cell_type": "code",
   "execution_count": null,
   "id": "2af65632",
   "metadata": {},
   "outputs": [],
   "source": []
  },
  {
   "cell_type": "code",
   "execution_count": null,
   "id": "61e72305",
   "metadata": {},
   "outputs": [],
   "source": []
  },
  {
   "cell_type": "code",
   "execution_count": null,
   "id": "f57fba58",
   "metadata": {},
   "outputs": [],
   "source": []
  },
  {
   "cell_type": "code",
   "execution_count": null,
   "id": "e11c90a8",
   "metadata": {},
   "outputs": [],
   "source": []
  }
 ],
 "metadata": {
  "kernelspec": {
   "display_name": ".venv",
   "language": "python",
   "name": "python3"
  },
  "language_info": {
   "codemirror_mode": {
    "name": "ipython",
    "version": 3
   },
   "file_extension": ".py",
   "mimetype": "text/x-python",
   "name": "python",
   "nbconvert_exporter": "python",
   "pygments_lexer": "ipython3",
   "version": "3.13.6"
  }
 },
 "nbformat": 4,
 "nbformat_minor": 5
}
